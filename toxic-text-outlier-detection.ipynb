{
 "cells": [
  {
   "cell_type": "code",
   "execution_count": 1,
   "metadata": {},
   "outputs": [],
   "source": [
    "import numpy as np\n",
    "import matplotlib.pyplot as plt\n",
    "import seaborn as sns\n",
    "import pandas as pd"
   ]
  },
  {
   "cell_type": "code",
   "execution_count": 2,
   "metadata": {},
   "outputs": [],
   "source": [
    "# Load cached data from Detoxify model on Jigsaw dataset. See https://github.com/unitaryai/detoxify for details.\n",
    "# The comments are from Wikipedia talk channels, and we are trying perform outlier detection\n",
    "# We will only use the non-toxic data, and then with type-1 error control identify the toxic outliers.\n",
    "data = np.load('data/toxic-text/toxic-text-detoxify.npz')\n",
    "preds = data['preds'] # Toxicity score in [0,1]\n",
    "toxic = data['labels'] # Toxic (1) or not (0)"
   ]
  },
  {
   "cell_type": "code",
   "execution_count": 3,
   "metadata": {},
   "outputs": [],
   "source": [
    "# Problem setup\n",
    "alpha = 0.1 # 1-alpha is the desired type-1 error\n",
    "n = 10000 # Use 200 calibration points"
   ]
  },
  {
   "cell_type": "code",
   "execution_count": 4,
   "metadata": {},
   "outputs": [],
   "source": [
    "# Look at only the non-toxic data\n",
    "nontoxic = toxic == 0\n",
    "preds_nontoxic = preds[nontoxic]\n",
    "preds_toxic = preds[np.invert(nontoxic)]\n",
    "\n",
    "# Split nontoxic data into calibration and validation sets (save the shuffling)\n",
    "idx = np.array([1] * n + [0] * (preds_nontoxic.shape[0]-n)) > 0\n",
    "np.random.shuffle(idx)\n",
    "cal_scores, val_scores = preds_nontoxic[idx], preds_nontoxic[np.invert(idx)]"
   ]
  },
  {
   "cell_type": "markdown",
   "metadata": {},
   "source": [
    "### Conformal outlier detection happens here"
   ]
  },
  {
   "cell_type": "code",
   "execution_count": 5,
   "metadata": {},
   "outputs": [],
   "source": [
    "# Use the outlier detection method to get a threshold on the toxicities\n",
    "qhat = np.quantile(cal_scores, np.ceil((n+1)*(1-alpha))/n)\n",
    "# Perform outlier detection on the ind and ood data\n",
    "outlier_ind = val_scores > qhat # We want this to be no more than alpha on average\n",
    "outlier_ood = preds_toxic > qhat # We want this to be as large as possible, but it doesn't have a guarantee"
   ]
  },
  {
   "cell_type": "code",
   "execution_count": 6,
   "metadata": {},
   "outputs": [
    {
     "name": "stdout",
     "output_type": "stream",
     "text": [
      "The type-1 error is 0.0994, the type-2 error is 0.2993, and the threshold is 0.4857.\n"
     ]
    }
   ],
   "source": [
    "# Calculate type-1 and type-2 errors\n",
    "type1 = outlier_ind.mean()\n",
    "type2 = 1-outlier_ood.mean()\n",
    "print(f\"The type-1 error is {type1:.4f}, the type-2 error is {type2:.4f}, and the threshold is {qhat:.4f}.\")"
   ]
  },
  {
   "cell_type": "code",
   "execution_count": 7,
   "metadata": {
    "scrolled": true
   },
   "outputs": [
    {
     "name": "stdout",
     "output_type": "stream",
     "text": [
      "Unflagged text examples:\n",
      "['E eu não posso xingar uma pessoa que não tem que temer? E essa pessoa não tem o direito a não passar por um calvário que eu lhe mova? Eduardo 話 ', 'La référence à suivre c est le CINB qui ne met pas d espace. Et au passage, en typographie, une espace est un mot féminin. Et encore au passage, il ne faut pas mettre de « & nbsp; » dans wikipédia le logiciel gère tout seul les espaces insécables avant les double ponctuation ou entre les guillemets. TED ', 'Утвержден Постановлением Правительства Российской Федерации от 17 ноября 2010 г. N 928 ПЕРЕЧЕНЬ АВТОМОБИЛЬНЫХ ДОРОГ ОБЩЕГО ПОЛЬЗОВАНИЯ ФЕДЕРАЛЬНОГО ЗНАЧЕНИЯ (в ред. Постановлений Правительства РФ от 18.01.2011 N 10,от 21.02.2011 N 96, от 05.09.2011 N 744, от 29.11.2011 N 990, от 30.12.2011 N 1207) А-121  Сортавала  Санкт-Петербург - Сортавала - автомобильная дорога Р-21  Кола  Идентификационный номер автомобильной дороги 00 ОП ФЗ А-121 автомобильная дорога от Санкт-Петербурга через Приозерск, Сортавалу до Петрозаводска,включающая строящийся участок от Кольцевой автомобильной дороги вокруг г. Санкт-Петербурга через Скотное до автомобильной дороги Магистральная', 'Il tizio vicino è un povero diavolo  trascinato  un giovedì mattina (dopo che era rientrato dal lavoro alle 4.30) alla ricerca di un abazia... perduta...', ' Olá e bem-vindo(a) à Wikipédia. A edição que fez na página Teresa Surita foi revertida por ter colocado informações erradas ou aparentemente incorrectas sem fornecer uma fonte fiável dessa informação. Por favor, não adicione informações erradas às páginas da Wikipédia. Se quiser fazer apenas testes de edição tem à sua disposição a Página de testes onde editar à vontade sem danificar a Wikipédia. Recomendamos também a leitura da página Breve introdução sobre a Wikipédia. Obrigado. Douglas Santana (discussão • contribs) ']\n",
      "\n",
      "\n",
      "Flagged text examples:\n",
      "['Bordel de merde, je vous ai dit que c était SIMENON apparenté à l écrivain liégeois Georges Simenon. Stephan Koenig 91.86.107.192 (d) ', 'diff=65567750&oldid=61102337&rcid=66460573 Lisez & rétablissez SVP,... Si vous ne voulez pas que la FRANCE & BRETAGNE meurent idiotes, noyées sous ses tonnes de lisiers ou mythes écrits par des imbéciles ignares. MERCI pour MON PAYS & ma LANGUE pas polie pas politique, pas calottine, mais VRAIE, VULGAIRE = COMMUN, COMMUNE, celle de tous, du Bac-10 au Bac+10 = BON FRANCAIS BON ECRITURE & surtout SCIENCE EXACTE de mes MOTS. Ce botmachin me fatigue, il ne parle pas Français. MERCI!', 'Llamo  echar mierda  a nombrar un polémico caso con una sentencia judicial que ha dejado a parte de la población estupefacta y que me imagino que ya está recurrida (la verdad, no me preocupado de examinar ese punto). Como además se refiere a otro tema distinto al que se trata aquí, no supongo, sino que afirmo, que es un intento descarado de desacreditar al personaje con vistas a hacerle parecer  el coco  de la historia. Dime que no es cierto. Hispa ...las quejas ', 'Eu não entendo muito de biologia...tenho receio de fazer besteira. Será que alguém envolvido com um projecto afim não seria mais indicado? Abraços, ', 'bu yazıyı yazan tam bır gerızekalıdır.öcallar önce yucellerdı sonradan soyisimi degıstırdıler bundan haberın yok sanırım yoksa boyle bır aptallıkta bulunmazdın bu durumda ozaman yuceller belçarsagın en kral babaları oluyorlar..']\n"
     ]
    }
   ],
   "source": [
    "# Show some examples of unflagged and flagged text\n",
    "content = pd.read_csv('generation-scripts/toxic_text_utils/test.csv')['content']\n",
    "print(\"Unflagged text examples:\")\n",
    "print(list(np.random.choice(content[preds <= qhat],size=(5,))))\n",
    "print(\"\\n\\nFlagged text examples:\")\n",
    "print(list(np.random.choice(content[preds > qhat],size=(5,))))"
   ]
  }
 ],
 "metadata": {
  "kernelspec": {
   "display_name": "Python 3 (ipykernel)",
   "language": "python",
   "name": "python3"
  },
  "language_info": {
   "codemirror_mode": {
    "name": "ipython",
    "version": 3
   },
   "file_extension": ".py",
   "mimetype": "text/x-python",
   "name": "python",
   "nbconvert_exporter": "python",
   "pygments_lexer": "ipython3",
   "version": "3.10.0"
  }
 },
 "nbformat": 4,
 "nbformat_minor": 4
}
